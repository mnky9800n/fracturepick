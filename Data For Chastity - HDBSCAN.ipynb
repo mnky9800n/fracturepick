{
 "cells": [
  {
   "cell_type": "code",
   "execution_count": 1,
   "metadata": {},
   "outputs": [],
   "source": [
    "%matplotlib inline\n",
    "\n",
    "import pandas as pd\n",
    "import numpy as np\n",
    "import matplotlib.pyplot as plt\n",
    "import hdbscan\n"
   ]
  },
  {
   "cell_type": "markdown",
   "metadata": {},
   "source": [
    "label - index for the slice, not unique, just the id number for the detection in that particular slice\n",
    "\n",
    "bbox-0-3 - the bounding box corners\n",
    "\n",
    "bbox_area - number of pixels inside the bounding box\n",
    "\n",
    "convex_area - Number of pixels of convex hull image, which is the smallest convex polygon that encloses the region.\n",
    "\n",
    "eccentricity - Eccentricity of the ellipse that has the same second-moments as the region. The eccentricity is the ratio of the focal distance (distance between focal points) over the major axis length. The value is in the interval [0, 1). When it is 0, the ellipse becomes a circle.\n",
    "filled_area - Number of pixels of the region will all the holes filled in. Describes the area of the filled_image.\n",
    "\n",
    "major_axis_length - The length of the major axis of the ellipse that has the same normalized second central moments as the region.\n",
    "\n",
    "minor_axis_length - The length of the minor axis of the ellipse that has the same normalized second central moments as the region."
   ]
  },
  {
   "cell_type": "markdown",
   "metadata": {},
   "source": [
    "# load data"
   ]
  },
  {
   "cell_type": "code",
   "execution_count": 2,
   "metadata": {},
   "outputs": [
    {
     "data": {
      "text/html": [
       "<div>\n",
       "<style scoped>\n",
       "    .dataframe tbody tr th:only-of-type {\n",
       "        vertical-align: middle;\n",
       "    }\n",
       "\n",
       "    .dataframe tbody tr th {\n",
       "        vertical-align: top;\n",
       "    }\n",
       "\n",
       "    .dataframe thead th {\n",
       "        text-align: right;\n",
       "    }\n",
       "</style>\n",
       "<table border=\"1\" class=\"dataframe\">\n",
       "  <thead>\n",
       "    <tr style=\"text-align: right;\">\n",
       "      <th></th>\n",
       "      <th>bbox_area</th>\n",
       "      <th>convex_area</th>\n",
       "      <th>eccentricity</th>\n",
       "      <th>filled_area</th>\n",
       "      <th>major_axis_length</th>\n",
       "      <th>minor_axis_length</th>\n",
       "    </tr>\n",
       "  </thead>\n",
       "  <tbody>\n",
       "    <tr>\n",
       "      <th>0</th>\n",
       "      <td>42</td>\n",
       "      <td>32</td>\n",
       "      <td>0.613612</td>\n",
       "      <td>30</td>\n",
       "      <td>7.230302</td>\n",
       "      <td>5.709102</td>\n",
       "    </tr>\n",
       "    <tr>\n",
       "      <th>1</th>\n",
       "      <td>80</td>\n",
       "      <td>53</td>\n",
       "      <td>0.886943</td>\n",
       "      <td>48</td>\n",
       "      <td>11.658987</td>\n",
       "      <td>5.385032</td>\n",
       "    </tr>\n",
       "    <tr>\n",
       "      <th>2</th>\n",
       "      <td>48</td>\n",
       "      <td>30</td>\n",
       "      <td>0.912665</td>\n",
       "      <td>27</td>\n",
       "      <td>9.581906</td>\n",
       "      <td>3.916196</td>\n",
       "    </tr>\n",
       "    <tr>\n",
       "      <th>3</th>\n",
       "      <td>40</td>\n",
       "      <td>29</td>\n",
       "      <td>0.906024</td>\n",
       "      <td>25</td>\n",
       "      <td>8.853080</td>\n",
       "      <td>3.746862</td>\n",
       "    </tr>\n",
       "    <tr>\n",
       "      <th>4</th>\n",
       "      <td>36</td>\n",
       "      <td>32</td>\n",
       "      <td>0.000000</td>\n",
       "      <td>32</td>\n",
       "      <td>6.324555</td>\n",
       "      <td>6.324555</td>\n",
       "    </tr>\n",
       "  </tbody>\n",
       "</table>\n",
       "</div>"
      ],
      "text/plain": [
       "   bbox_area  convex_area  eccentricity  filled_area  major_axis_length  \\\n",
       "0         42           32      0.613612           30           7.230302   \n",
       "1         80           53      0.886943           48          11.658987   \n",
       "2         48           30      0.912665           27           9.581906   \n",
       "3         40           29      0.906024           25           8.853080   \n",
       "4         36           32      0.000000           32           6.324555   \n",
       "\n",
       "   minor_axis_length  \n",
       "0           5.709102  \n",
       "1           5.385032  \n",
       "2           3.916196  \n",
       "3           3.746862  \n",
       "4           6.324555  "
      ]
     },
     "execution_count": 2,
     "metadata": {},
     "output_type": "execute_result"
    }
   ],
   "source": [
    "df = pd.read_csv('data_for_chastity.csv')\n",
    "# df.columns = ['sigD2','x','y','z','Div','Cur','Unknown']\n",
    "df = df[['bbox_area','convex_area','eccentricity','filled_area','major_axis_length','minor_axis_length']]\n",
    "df.head()"
   ]
  },
  {
   "cell_type": "code",
   "execution_count": 3,
   "metadata": {},
   "outputs": [
    {
     "data": {
      "text/html": [
       "<div>\n",
       "<style scoped>\n",
       "    .dataframe tbody tr th:only-of-type {\n",
       "        vertical-align: middle;\n",
       "    }\n",
       "\n",
       "    .dataframe tbody tr th {\n",
       "        vertical-align: top;\n",
       "    }\n",
       "\n",
       "    .dataframe thead th {\n",
       "        text-align: right;\n",
       "    }\n",
       "</style>\n",
       "<table border=\"1\" class=\"dataframe\">\n",
       "  <thead>\n",
       "    <tr style=\"text-align: right;\">\n",
       "      <th></th>\n",
       "      <th>bbox_area</th>\n",
       "      <th>convex_area</th>\n",
       "      <th>eccentricity</th>\n",
       "      <th>filled_area</th>\n",
       "      <th>major_axis_length</th>\n",
       "      <th>minor_axis_length</th>\n",
       "    </tr>\n",
       "  </thead>\n",
       "  <tbody>\n",
       "    <tr>\n",
       "      <th>669</th>\n",
       "      <td>1</td>\n",
       "      <td>1</td>\n",
       "      <td>0.0</td>\n",
       "      <td>1</td>\n",
       "      <td>0.0</td>\n",
       "      <td>0.0</td>\n",
       "    </tr>\n",
       "    <tr>\n",
       "      <th>766</th>\n",
       "      <td>1</td>\n",
       "      <td>1</td>\n",
       "      <td>0.0</td>\n",
       "      <td>1</td>\n",
       "      <td>0.0</td>\n",
       "      <td>0.0</td>\n",
       "    </tr>\n",
       "    <tr>\n",
       "      <th>787</th>\n",
       "      <td>1</td>\n",
       "      <td>1</td>\n",
       "      <td>0.0</td>\n",
       "      <td>1</td>\n",
       "      <td>0.0</td>\n",
       "      <td>0.0</td>\n",
       "    </tr>\n",
       "    <tr>\n",
       "      <th>869</th>\n",
       "      <td>1</td>\n",
       "      <td>1</td>\n",
       "      <td>0.0</td>\n",
       "      <td>1</td>\n",
       "      <td>0.0</td>\n",
       "      <td>0.0</td>\n",
       "    </tr>\n",
       "    <tr>\n",
       "      <th>1070</th>\n",
       "      <td>1</td>\n",
       "      <td>1</td>\n",
       "      <td>0.0</td>\n",
       "      <td>1</td>\n",
       "      <td>0.0</td>\n",
       "      <td>0.0</td>\n",
       "    </tr>\n",
       "  </tbody>\n",
       "</table>\n",
       "</div>"
      ],
      "text/plain": [
       "      bbox_area  convex_area  eccentricity  filled_area  major_axis_length  \\\n",
       "669           1            1           0.0            1                0.0   \n",
       "766           1            1           0.0            1                0.0   \n",
       "787           1            1           0.0            1                0.0   \n",
       "869           1            1           0.0            1                0.0   \n",
       "1070          1            1           0.0            1                0.0   \n",
       "\n",
       "      minor_axis_length  \n",
       "669                 0.0  \n",
       "766                 0.0  \n",
       "787                 0.0  \n",
       "869                 0.0  \n",
       "1070                0.0  "
      ]
     },
     "execution_count": 3,
     "metadata": {},
     "output_type": "execute_result"
    }
   ],
   "source": [
    "df[df.major_axis_length==0].head()"
   ]
  },
  {
   "cell_type": "markdown",
   "metadata": {},
   "source": [
    "There are events that do not have enough information"
   ]
  },
  {
   "cell_type": "code",
   "execution_count": 4,
   "metadata": {},
   "outputs": [
    {
     "name": "stdout",
     "output_type": "stream",
     "text": [
      "bbox_area\n"
     ]
    },
    {
     "data": {
      "text/plain": [
       "Text(0, 0.5, '# events')"
      ]
     },
     "execution_count": 4,
     "metadata": {},
     "output_type": "execute_result"
    },
    {
     "data": {
      "image/png": "[encoded data removed]",
      "text/plain": [
       "<Figure size 432x216 with 1 Axes>"
      ]
     },
     "metadata": {
      "needs_background": "light"
     },
     "output_type": "display_data"
    }
   ],
   "source": [
    "for col in df.columns:\n",
    "    fig, ax, = plt.subplots(1,figsize=(6,3))\n",
    "    y, x = np.histogram(df[col],bins=np.logspace(0,5,base=10,endpoint=True,num=100)) #[np.log10(i) for i in df[col]]\n",
    "    x = [np.mean([x1,x2]) for x1, x2 in zip(x[:-1],x[1:])]\n",
    "    ax.plot(x,y,'-o')\n",
    "    print(col)\n",
    "    break\n",
    "    \n",
    "ax.set_yscale('log')\n",
    "ax.set_xscale('log')\n",
    "ax.set_xlabel(col)\n",
    "ax.set_ylabel('# events')"
   ]
  },
  {
   "cell_type": "markdown",
   "metadata": {},
   "source": [
    "events with 50 pixels or more seem to have enough information. a sort of magnitude of completeness."
   ]
  },
  {
   "cell_type": "code",
   "execution_count": 5,
   "metadata": {},
   "outputs": [],
   "source": [
    "df2 = df.copy()[df.bbox_area>=50] # keep only those events with 50 or more pixels"
   ]
  },
  {
   "cell_type": "code",
   "execution_count": 6,
   "metadata": {},
   "outputs": [],
   "source": [
    "# plot distributions of features"
   ]
  },
  {
   "cell_type": "code",
   "execution_count": 7,
   "metadata": {},
   "outputs": [
    {
     "name": "stdout",
     "output_type": "stream",
     "text": [
      "bbox_area\n",
      "convex_area\n",
      "eccentricity\n",
      "filled_area\n",
      "major_axis_length\n",
      "minor_axis_length\n"
     ]
    },
    {
     "data": {
      "image/png": "[encoded data removed]",
      "text/plain": [
       "<Figure size 432x216 with 1 Axes>"
      ]
     },
     "metadata": {
      "needs_background": "light"
     },
     "output_type": "display_data"
    },
    {
     "data": {
      "image/png": "[encoded data removed]",
      "text/plain": [
       "<Figure size 432x216 with 1 Axes>"
      ]
     },
     "metadata": {
      "needs_background": "light"
     },
     "output_type": "display_data"
    },
    {
     "data": {
      "image/png": "[encoded data removed]",
      "text/plain": [
       "<Figure size 432x216 with 1 Axes>"
      ]
     },
     "metadata": {
      "needs_background": "light"
     },
     "output_type": "display_data"
    },
    {
     "data": {
      "image/png": "[encoded data removed]",
      "text/plain": [
       "<Figure size 432x216 with 1 Axes>"
      ]
     },
     "metadata": {
      "needs_background": "light"
     },
     "output_type": "display_data"
    },
    {
     "data": {
      "image/png": "[encoded data removed]",
      "text/plain": [
       "<Figure size 432x216 with 1 Axes>"
      ]
     },
     "metadata": {
      "needs_background": "light"
     },
     "output_type": "display_data"
    },
    {
     "data": {
      "image/png": "[encoded data removed]",
      "text/plain": [
       "<Figure size 432x216 with 1 Axes>"
      ]
     },
     "metadata": {
      "needs_background": "light"
     },
     "output_type": "display_data"
    }
   ],
   "source": [
    "for col in df.columns:\n",
    "    fig, ax, = plt.subplots(1,figsize=(6,3))\n",
    "    if col in ['bbox_area','convex_area']:\n",
    "        X = [np.log10(i) for i in df2[col]]\n",
    "        xbins = np.linspace(0,5,100)\n",
    "    elif col in ['eccentricity']:\n",
    "        X = df2[col]\n",
    "        xbins = np.arange(0,1.001,0.01)\n",
    "    else:\n",
    "        X = df2[col]\n",
    "        xbins = np.arange(0,201,2)\n",
    "        \n",
    "    y, x = np.histogram(X,bins=xbins) #[np.log10(i) for i in df[col]]\n",
    "    x = [np.mean([x1,x2]) for x1, x2 in zip(x[:-1],x[1:])]\n",
    "    ax.plot(x,y,'-o')\n",
    "    print(col)\n",
    "    ax.set_yscale('log')\n",
    "    ax.set_xlabel(col)\n",
    "    ax.set_ylabel('# events')\n",
    "    \n",
    "    \n"
   ]
  },
  {
   "cell_type": "markdown",
   "metadata": {},
   "source": [
    "bbox_area and convex_area need to be log10-ed to create noticeable differences."
   ]
  },
  {
   "cell_type": "code",
   "execution_count": 8,
   "metadata": {},
   "outputs": [],
   "source": [
    "df3 = df2.copy()\n",
    "df3['log10_bbox_area'] = pd.Series([np.log10(i) for i in df3.bbox_area],index=df3.index)\n",
    "df3['log10_convex_area'] = pd.Series([np.log10(i) for i in df3.convex_area],index=df3.index)\n",
    "df3 = df3.drop(columns=['bbox_area','convex_area'])"
   ]
  },
  {
   "cell_type": "code",
   "execution_count": 9,
   "metadata": {},
   "outputs": [
    {
     "data": {
      "text/html": [
       "<div>\n",
       "<style scoped>\n",
       "    .dataframe tbody tr th:only-of-type {\n",
       "        vertical-align: middle;\n",
       "    }\n",
       "\n",
       "    .dataframe tbody tr th {\n",
       "        vertical-align: top;\n",
       "    }\n",
       "\n",
       "    .dataframe thead th {\n",
       "        text-align: right;\n",
       "    }\n",
       "</style>\n",
       "<table border=\"1\" class=\"dataframe\">\n",
       "  <thead>\n",
       "    <tr style=\"text-align: right;\">\n",
       "      <th></th>\n",
       "      <th>eccentricity</th>\n",
       "      <th>filled_area</th>\n",
       "      <th>major_axis_length</th>\n",
       "      <th>minor_axis_length</th>\n",
       "      <th>log10_bbox_area</th>\n",
       "      <th>log10_convex_area</th>\n",
       "    </tr>\n",
       "  </thead>\n",
       "  <tbody>\n",
       "    <tr>\n",
       "      <th>1</th>\n",
       "      <td>0.886943</td>\n",
       "      <td>48</td>\n",
       "      <td>11.658987</td>\n",
       "      <td>5.385032</td>\n",
       "      <td>1.903090</td>\n",
       "      <td>1.724276</td>\n",
       "    </tr>\n",
       "    <tr>\n",
       "      <th>5</th>\n",
       "      <td>0.852356</td>\n",
       "      <td>40</td>\n",
       "      <td>9.870822</td>\n",
       "      <td>5.162061</td>\n",
       "      <td>1.732394</td>\n",
       "      <td>1.612784</td>\n",
       "    </tr>\n",
       "    <tr>\n",
       "      <th>9</th>\n",
       "      <td>0.932457</td>\n",
       "      <td>64</td>\n",
       "      <td>15.545882</td>\n",
       "      <td>5.616432</td>\n",
       "      <td>2.068186</td>\n",
       "      <td>1.863323</td>\n",
       "    </tr>\n",
       "    <tr>\n",
       "      <th>15</th>\n",
       "      <td>0.867774</td>\n",
       "      <td>41</td>\n",
       "      <td>10.265556</td>\n",
       "      <td>5.101555</td>\n",
       "      <td>1.698970</td>\n",
       "      <td>1.612784</td>\n",
       "    </tr>\n",
       "    <tr>\n",
       "      <th>19</th>\n",
       "      <td>0.879342</td>\n",
       "      <td>52</td>\n",
       "      <td>11.891102</td>\n",
       "      <td>5.662441</td>\n",
       "      <td>1.819544</td>\n",
       "      <td>1.748188</td>\n",
       "    </tr>\n",
       "  </tbody>\n",
       "</table>\n",
       "</div>"
      ],
      "text/plain": [
       "    eccentricity  filled_area  major_axis_length  minor_axis_length  \\\n",
       "1       0.886943           48          11.658987           5.385032   \n",
       "5       0.852356           40           9.870822           5.162061   \n",
       "9       0.932457           64          15.545882           5.616432   \n",
       "15      0.867774           41          10.265556           5.101555   \n",
       "19      0.879342           52          11.891102           5.662441   \n",
       "\n",
       "    log10_bbox_area  log10_convex_area  \n",
       "1          1.903090           1.724276  \n",
       "5          1.732394           1.612784  \n",
       "9          2.068186           1.863323  \n",
       "15         1.698970           1.612784  \n",
       "19         1.819544           1.748188  "
      ]
     },
     "execution_count": 9,
     "metadata": {},
     "output_type": "execute_result"
    }
   ],
   "source": [
    "df3.head()"
   ]
  },
  {
   "cell_type": "markdown",
   "metadata": {},
   "source": [
    "# cluster with HDBSCAN"
   ]
  },
  {
   "cell_type": "code",
   "execution_count": 10,
   "metadata": {},
   "outputs": [
    {
     "name": "stdout",
     "output_type": "stream",
     "text": [
      "1090\n"
     ]
    }
   ],
   "source": [
    "m = hdbscan.HDBSCAN(min_cluster_size=20,min_samples=2)#,cluster_selection_epsilon=0.001)\n",
    "m.fit(df3)\n",
    "print(len(df3))"
   ]
  },
  {
   "cell_type": "code",
   "execution_count": 11,
   "metadata": {},
   "outputs": [
    {
     "data": {
      "text/plain": [
       "<AxesSubplot:ylabel='$\\\\lambda$ value'>"
      ]
     },
     "execution_count": 11,
     "metadata": {},
     "output_type": "execute_result"
    },
    {
     "data": {
      "image/png": "[encoded data removed]",
      "text/plain": [
       "<Figure size 432x288 with 2 Axes>"
      ]
     },
     "metadata": {
      "needs_background": "light"
     },
     "output_type": "display_data"
    }
   ],
   "source": [
    "m.condensed_tree_.plot(select_clusters=True)"
   ]
  },
  {
   "cell_type": "code",
   "execution_count": 12,
   "metadata": {},
   "outputs": [
    {
     "name": "stdout",
     "output_type": "stream",
     "text": [
      "# clusters: 26\n"
     ]
    },
    {
     "data": {
      "text/html": [
       "<div>\n",
       "<style scoped>\n",
       "    .dataframe tbody tr th:only-of-type {\n",
       "        vertical-align: middle;\n",
       "    }\n",
       "\n",
       "    .dataframe tbody tr th {\n",
       "        vertical-align: top;\n",
       "    }\n",
       "\n",
       "    .dataframe thead th {\n",
       "        text-align: right;\n",
       "    }\n",
       "</style>\n",
       "<table border=\"1\" class=\"dataframe\">\n",
       "  <thead>\n",
       "    <tr style=\"text-align: right;\">\n",
       "      <th></th>\n",
       "      <th>eccentricity</th>\n",
       "      <th>filled_area</th>\n",
       "      <th>major_axis_length</th>\n",
       "      <th>minor_axis_length</th>\n",
       "      <th>log10_bbox_area</th>\n",
       "      <th>log10_convex_area</th>\n",
       "      <th>clusterNumber</th>\n",
       "    </tr>\n",
       "  </thead>\n",
       "  <tbody>\n",
       "    <tr>\n",
       "      <th>1</th>\n",
       "      <td>0.886943</td>\n",
       "      <td>48</td>\n",
       "      <td>11.658987</td>\n",
       "      <td>5.385032</td>\n",
       "      <td>1.903090</td>\n",
       "      <td>1.724276</td>\n",
       "      <td>22</td>\n",
       "    </tr>\n",
       "    <tr>\n",
       "      <th>5</th>\n",
       "      <td>0.852356</td>\n",
       "      <td>40</td>\n",
       "      <td>9.870822</td>\n",
       "      <td>5.162061</td>\n",
       "      <td>1.732394</td>\n",
       "      <td>1.612784</td>\n",
       "      <td>11</td>\n",
       "    </tr>\n",
       "    <tr>\n",
       "      <th>9</th>\n",
       "      <td>0.932457</td>\n",
       "      <td>64</td>\n",
       "      <td>15.545882</td>\n",
       "      <td>5.616432</td>\n",
       "      <td>2.068186</td>\n",
       "      <td>1.863323</td>\n",
       "      <td>6</td>\n",
       "    </tr>\n",
       "    <tr>\n",
       "      <th>15</th>\n",
       "      <td>0.867774</td>\n",
       "      <td>41</td>\n",
       "      <td>10.265556</td>\n",
       "      <td>5.101555</td>\n",
       "      <td>1.698970</td>\n",
       "      <td>1.612784</td>\n",
       "      <td>13</td>\n",
       "    </tr>\n",
       "    <tr>\n",
       "      <th>19</th>\n",
       "      <td>0.879342</td>\n",
       "      <td>52</td>\n",
       "      <td>11.891102</td>\n",
       "      <td>5.662441</td>\n",
       "      <td>1.819544</td>\n",
       "      <td>1.748188</td>\n",
       "      <td>18</td>\n",
       "    </tr>\n",
       "  </tbody>\n",
       "</table>\n",
       "</div>"
      ],
      "text/plain": [
       "    eccentricity  filled_area  major_axis_length  minor_axis_length  \\\n",
       "1       0.886943           48          11.658987           5.385032   \n",
       "5       0.852356           40           9.870822           5.162061   \n",
       "9       0.932457           64          15.545882           5.616432   \n",
       "15      0.867774           41          10.265556           5.101555   \n",
       "19      0.879342           52          11.891102           5.662441   \n",
       "\n",
       "    log10_bbox_area  log10_convex_area  clusterNumber  \n",
       "1          1.903090           1.724276             22  \n",
       "5          1.732394           1.612784             11  \n",
       "9          2.068186           1.863323              6  \n",
       "15         1.698970           1.612784             13  \n",
       "19         1.819544           1.748188             18  "
      ]
     },
     "execution_count": 12,
     "metadata": {},
     "output_type": "execute_result"
    }
   ],
   "source": [
    "clusters = m.labels_\n",
    "X = df3.copy()\n",
    "X['clusterNumber'] = pd.Series(clusters,index=X.index)\n",
    "print('# clusters: %.0f' % len(X.clusterNumber.unique()))\n",
    "df_cluster = pd.concat([df3,X[['clusterNumber']]],axis=1)\n",
    "df_cluster.head()"
   ]
  },
  {
   "cell_type": "code",
   "execution_count": 15,
   "metadata": {},
   "outputs": [
    {
     "data": {
      "text/plain": [
       "<AxesSubplot:xlabel='major_axis_length', ylabel='minor_axis_length'>"
      ]
     },
     "execution_count": 15,
     "metadata": {},
     "output_type": "execute_result"
    },
    {
     "data": {
      "image/png": "[encoded data removed]",
      "text/plain": [
       "<Figure size 648x504 with 2 Axes>"
      ]
     },
     "metadata": {
      "needs_background": "light"
     },
     "output_type": "display_data"
    }
   ],
   "source": [
    "fig, ax = plt.subplots(figsize=(9, 7))\n",
    "df_cluster.plot.scatter(x='major_axis_length', y='minor_axis_length', c='clusterNumber', cmap='nipy_spectral', ax=ax)"
   ]
  },
  {
   "cell_type": "code",
   "execution_count": 16,
   "metadata": {},
   "outputs": [
    {
     "data": {
      "text/plain": [
       "(0.0, 25.0)"
      ]
     },
     "execution_count": 16,
     "metadata": {},
     "output_type": "execute_result"
    },
    {
     "data": {
      "image/png": "[encoded data removed]",
      "text/plain": [
       "<Figure size 648x504 with 2 Axes>"
      ]
     },
     "metadata": {
      "needs_background": "light"
     },
     "output_type": "display_data"
    }
   ],
   "source": [
    "fig, ax = plt.subplots(figsize=(9, 7))\n",
    "df_cluster.plot.scatter(x='major_axis_length', y='minor_axis_length', c='clusterNumber', cmap='nipy_spectral', ax=ax)\n",
    "\n",
    "ax.set_xlim(0, 100)\n",
    "ax.set_ylim(0, 25)"
   ]
  },
  {
   "cell_type": "code",
   "execution_count": 13,
   "metadata": {},
   "outputs": [
    {
     "name": "stdout",
     "output_type": "stream",
     "text": [
      "cluster # -1 ; # events 362\n",
      "cluster # 0 ; # events 38\n",
      "cluster # 1 ; # events 21\n",
      "cluster # 2 ; # events 29\n",
      "cluster # 3 ; # events 43\n",
      "cluster # 4 ; # events 23\n",
      "cluster # 5 ; # events 21\n",
      "cluster # 6 ; # events 54\n",
      "cluster # 7 ; # events 42\n",
      "cluster # 8 ; # events 35\n",
      "cluster # 9 ; # events 23\n",
      "cluster # 10 ; # events 33\n",
      "cluster # 11 ; # events 26\n",
      "cluster # 12 ; # events 24\n",
      "cluster # 13 ; # events 39\n",
      "cluster # 14 ; # events 22\n",
      "cluster # 15 ; # events 20\n",
      "cluster # 16 ; # events 37\n",
      "cluster # 17 ; # events 22\n",
      "cluster # 18 ; # events 21\n",
      "cluster # 19 ; # events 20\n",
      "cluster # 20 ; # events 26\n",
      "cluster # 21 ; # events 25\n",
      "cluster # 22 ; # events 29\n",
      "cluster # 23 ; # events 26\n",
      "cluster # 24 ; # events 29\n"
     ]
    }
   ],
   "source": [
    "for c in sorted(df_cluster.clusterNumber.unique()):\n",
    "    dfSlice = df_cluster.copy()[df_cluster.clusterNumber==c]\n",
    "    print('cluster #',c,'; # events',len(dfSlice))"
   ]
  },
  {
   "cell_type": "code",
   "execution_count": 14,
   "metadata": {},
   "outputs": [
    {
     "data": {
      "text/html": [
       "<div>\n",
       "<style scoped>\n",
       "    .dataframe tbody tr th:only-of-type {\n",
       "        vertical-align: middle;\n",
       "    }\n",
       "\n",
       "    .dataframe tbody tr th {\n",
       "        vertical-align: top;\n",
       "    }\n",
       "\n",
       "    .dataframe thead th {\n",
       "        text-align: right;\n",
       "    }\n",
       "</style>\n",
       "<table border=\"1\" class=\"dataframe\">\n",
       "  <thead>\n",
       "    <tr style=\"text-align: right;\">\n",
       "      <th></th>\n",
       "      <th>eccentricity</th>\n",
       "      <th>filled_area</th>\n",
       "      <th>major_axis_length</th>\n",
       "      <th>minor_axis_length</th>\n",
       "      <th>log10_bbox_area</th>\n",
       "      <th>log10_convex_area</th>\n",
       "      <th>clusterNumber</th>\n",
       "    </tr>\n",
       "  </thead>\n",
       "  <tbody>\n",
       "    <tr>\n",
       "      <th>1</th>\n",
       "      <td>0.886943</td>\n",
       "      <td>48</td>\n",
       "      <td>11.658987</td>\n",
       "      <td>5.385032</td>\n",
       "      <td>1.903090</td>\n",
       "      <td>1.724276</td>\n",
       "      <td>22</td>\n",
       "    </tr>\n",
       "    <tr>\n",
       "      <th>5</th>\n",
       "      <td>0.852356</td>\n",
       "      <td>40</td>\n",
       "      <td>9.870822</td>\n",
       "      <td>5.162061</td>\n",
       "      <td>1.732394</td>\n",
       "      <td>1.612784</td>\n",
       "      <td>11</td>\n",
       "    </tr>\n",
       "    <tr>\n",
       "      <th>9</th>\n",
       "      <td>0.932457</td>\n",
       "      <td>64</td>\n",
       "      <td>15.545882</td>\n",
       "      <td>5.616432</td>\n",
       "      <td>2.068186</td>\n",
       "      <td>1.863323</td>\n",
       "      <td>6</td>\n",
       "    </tr>\n",
       "    <tr>\n",
       "      <th>15</th>\n",
       "      <td>0.867774</td>\n",
       "      <td>41</td>\n",
       "      <td>10.265556</td>\n",
       "      <td>5.101555</td>\n",
       "      <td>1.698970</td>\n",
       "      <td>1.612784</td>\n",
       "      <td>13</td>\n",
       "    </tr>\n",
       "    <tr>\n",
       "      <th>19</th>\n",
       "      <td>0.879342</td>\n",
       "      <td>52</td>\n",
       "      <td>11.891102</td>\n",
       "      <td>5.662441</td>\n",
       "      <td>1.819544</td>\n",
       "      <td>1.748188</td>\n",
       "      <td>18</td>\n",
       "    </tr>\n",
       "  </tbody>\n",
       "</table>\n",
       "</div>"
      ],
      "text/plain": [
       "    eccentricity  filled_area  major_axis_length  minor_axis_length  \\\n",
       "1       0.886943           48          11.658987           5.385032   \n",
       "5       0.852356           40           9.870822           5.162061   \n",
       "9       0.932457           64          15.545882           5.616432   \n",
       "15      0.867774           41          10.265556           5.101555   \n",
       "19      0.879342           52          11.891102           5.662441   \n",
       "\n",
       "    log10_bbox_area  log10_convex_area  clusterNumber  \n",
       "1          1.903090           1.724276             22  \n",
       "5          1.732394           1.612784             11  \n",
       "9          2.068186           1.863323              6  \n",
       "15         1.698970           1.612784             13  \n",
       "19         1.819544           1.748188             18  "
      ]
     },
     "execution_count": 14,
     "metadata": {},
     "output_type": "execute_result"
    }
   ],
   "source": [
    "df_cluster.head()"
   ]
  },
  {
   "cell_type": "code",
   "execution_count": 15,
   "metadata": {},
   "outputs": [
    {
     "data": {
      "text/html": [
       "<div>\n",
       "<style scoped>\n",
       "    .dataframe tbody tr th:only-of-type {\n",
       "        vertical-align: middle;\n",
       "    }\n",
       "\n",
       "    .dataframe tbody tr th {\n",
       "        vertical-align: top;\n",
       "    }\n",
       "\n",
       "    .dataframe thead th {\n",
       "        text-align: right;\n",
       "    }\n",
       "</style>\n",
       "<table border=\"1\" class=\"dataframe\">\n",
       "  <thead>\n",
       "    <tr style=\"text-align: right;\">\n",
       "      <th></th>\n",
       "      <th>bbox_area</th>\n",
       "      <th>convex_area</th>\n",
       "      <th>eccentricity</th>\n",
       "      <th>filled_area</th>\n",
       "      <th>major_axis_length</th>\n",
       "      <th>minor_axis_length</th>\n",
       "      <th>log10_bbox_area</th>\n",
       "      <th>log10_convex_area</th>\n",
       "      <th>clusterNumber</th>\n",
       "    </tr>\n",
       "  </thead>\n",
       "  <tbody>\n",
       "    <tr>\n",
       "      <th>1</th>\n",
       "      <td>80.0</td>\n",
       "      <td>53.0</td>\n",
       "      <td>0.886943</td>\n",
       "      <td>48.0</td>\n",
       "      <td>11.658987</td>\n",
       "      <td>5.385032</td>\n",
       "      <td>1.903090</td>\n",
       "      <td>1.724276</td>\n",
       "      <td>22.0</td>\n",
       "    </tr>\n",
       "    <tr>\n",
       "      <th>5</th>\n",
       "      <td>54.0</td>\n",
       "      <td>41.0</td>\n",
       "      <td>0.852356</td>\n",
       "      <td>40.0</td>\n",
       "      <td>9.870822</td>\n",
       "      <td>5.162061</td>\n",
       "      <td>1.732394</td>\n",
       "      <td>1.612784</td>\n",
       "      <td>11.0</td>\n",
       "    </tr>\n",
       "    <tr>\n",
       "      <th>9</th>\n",
       "      <td>117.0</td>\n",
       "      <td>73.0</td>\n",
       "      <td>0.932457</td>\n",
       "      <td>64.0</td>\n",
       "      <td>15.545882</td>\n",
       "      <td>5.616432</td>\n",
       "      <td>2.068186</td>\n",
       "      <td>1.863323</td>\n",
       "      <td>6.0</td>\n",
       "    </tr>\n",
       "    <tr>\n",
       "      <th>15</th>\n",
       "      <td>50.0</td>\n",
       "      <td>41.0</td>\n",
       "      <td>0.867774</td>\n",
       "      <td>41.0</td>\n",
       "      <td>10.265556</td>\n",
       "      <td>5.101555</td>\n",
       "      <td>1.698970</td>\n",
       "      <td>1.612784</td>\n",
       "      <td>13.0</td>\n",
       "    </tr>\n",
       "    <tr>\n",
       "      <th>19</th>\n",
       "      <td>66.0</td>\n",
       "      <td>56.0</td>\n",
       "      <td>0.879342</td>\n",
       "      <td>52.0</td>\n",
       "      <td>11.891102</td>\n",
       "      <td>5.662441</td>\n",
       "      <td>1.819544</td>\n",
       "      <td>1.748188</td>\n",
       "      <td>18.0</td>\n",
       "    </tr>\n",
       "  </tbody>\n",
       "</table>\n",
       "</div>"
      ],
      "text/plain": [
       "    bbox_area  convex_area  eccentricity  filled_area  major_axis_length  \\\n",
       "1        80.0         53.0      0.886943         48.0          11.658987   \n",
       "5        54.0         41.0      0.852356         40.0           9.870822   \n",
       "9       117.0         73.0      0.932457         64.0          15.545882   \n",
       "15       50.0         41.0      0.867774         41.0          10.265556   \n",
       "19       66.0         56.0      0.879342         52.0          11.891102   \n",
       "\n",
       "    minor_axis_length  log10_bbox_area  log10_convex_area  clusterNumber  \n",
       "1            5.385032         1.903090           1.724276           22.0  \n",
       "5            5.162061         1.732394           1.612784           11.0  \n",
       "9            5.616432         2.068186           1.863323            6.0  \n",
       "15           5.101555         1.698970           1.612784           13.0  \n",
       "19           5.662441         1.819544           1.748188           18.0  "
      ]
     },
     "execution_count": 15,
     "metadata": {},
     "output_type": "execute_result"
    }
   ],
   "source": [
    "df4 = pd.concat([df2,df_cluster],axis=1).T.drop_duplicates().T\n",
    "df4.head()"
   ]
  },
  {
   "cell_type": "code",
   "execution_count": 16,
   "metadata": {},
   "outputs": [],
   "source": [
    "df4.to_csv('data_for_chastity_clustered.csv',index=False,index_label=None)"
   ]
  }
 ],
 "metadata": {
  "kernelspec": {
   "display_name": "Python 3",
   "language": "python",
   "name": "python3"
  },
  "language_info": {
   "codemirror_mode": {
    "name": "ipython",
    "version": 3
   },
   "file_extension": ".py",
   "mimetype": "text/x-python",
   "name": "python",
   "nbconvert_exporter": "python",
   "pygments_lexer": "ipython3",
   "version": "3.6.11"
  }
 },
 "nbformat": 4,
 "nbformat_minor": 4
}
